{
 "cells": [
  {
   "cell_type": "markdown",
   "id": "422b748d-044f-4b43-bcae-b22a5a31de9e",
   "metadata": {},
   "source": [
    "# Data Science tools and Ecosystem"
   ]
  },
  {
   "cell_type": "markdown",
   "id": "92945c6a-101a-472c-aa1c-0dba4e63992f",
   "metadata": {},
   "source": [
    "In this notebook, Data Science Tools and Ecosystem are summarized."
   ]
  },
  {
   "cell_type": "markdown",
   "id": "ddbdce2d-98f1-4a01-9b29-9934eb27c01a",
   "metadata": {},
   "source": [
    "  Some of the popular languages that Data Scientists use are:\n",
    "1. Python\n",
    "2. JAVA\n",
    "3. R\n",
    "4. SQL\n"
   ]
  },
  {
   "cell_type": "markdown",
   "id": "05cda685-31fc-45bb-97c7-a847ef25dd04",
   "metadata": {},
   "source": [
    " Some of the commonly used libraries used by Data Scientists include:\n",
    " 1. Matplotlib\n",
    " 2. Pandas\n",
    " 3. NumPy"
   ]
  },
  {
   "cell_type": "markdown",
   "id": "9bae5e73-e49e-4938-9fd1-2ab3e494ecbf",
   "metadata": {},
   "source": [
    "Table of Data Science Tools\n",
    "\n",
    "|Data Science Tools|\n",
    "|------------------|\n",
    "|Jupyter Notebook|\n",
    "|Spyder|\n",
    "|R Studio|\n",
    "\n"
   ]
  },
  {
   "cell_type": "markdown",
   "id": "f79dbe21-8bc8-4241-9aaf-8ad3c5edc119",
   "metadata": {},
   "source": [
    "### Below are a few examples of evaluating arithmetic expressions in Python."
   ]
  },
  {
   "cell_type": "code",
   "execution_count": 1,
   "id": "6cea139a-9184-4009-ae25-e9e552d2e8a4",
   "metadata": {},
   "outputs": [
    {
     "data": {
      "text/plain": [
       "17"
      ]
     },
     "execution_count": 1,
     "metadata": {},
     "output_type": "execute_result"
    }
   ],
   "source": [
    "#This a simple arithmetic expression to multiply then add integers\n",
    "(3*4)+5"
   ]
  },
  {
   "cell_type": "code",
   "execution_count": 2,
   "id": "77427ca4-580b-4b03-b25e-e9132c0d5a10",
   "metadata": {},
   "outputs": [
    {
     "name": "stdout",
     "output_type": "stream",
     "text": [
      "3.3333333333333335 Hours\n"
     ]
    }
   ],
   "source": [
    "#This will convert 200 minutes to hours by dividing by 60\n",
    "print(200/60 ,\"Hours\")"
   ]
  },
  {
   "cell_type": "markdown",
   "id": "a50bc43e-9190-4e37-bae0-1758bfd7a50a",
   "metadata": {},
   "source": [
    "**Objectives:** \\\n",
    "**List popular languages for Data Science**\n",
    "- Python\n",
    "- R\n",
    "- JAVA\n",
    "  "
   ]
  },
  {
   "cell_type": "markdown",
   "id": "bae3279e-b3fa-4da2-aff6-749678c04ad7",
   "metadata": {},
   "source": [
    "## Author\n",
    "Roshan Paudel"
   ]
  }
 ],
 "metadata": {
  "kernelspec": {
   "display_name": "Python 3 (ipykernel)",
   "language": "python",
   "name": "python3"
  },
  "language_info": {
   "codemirror_mode": {
    "name": "ipython",
    "version": 3
   },
   "file_extension": ".py",
   "mimetype": "text/x-python",
   "name": "python",
   "nbconvert_exporter": "python",
   "pygments_lexer": "ipython3",
   "version": "3.13.5"
  }
 },
 "nbformat": 4,
 "nbformat_minor": 5
}
